{
  "nbformat": 4,
  "nbformat_minor": 0,
  "metadata": {
    "colab": {
      "name": "Data Science in Marketing : Customer Segmentation with Python.ipynb",
      "provenance": []
    },
    "kernelspec": {
      "name": "python3",
      "display_name": "Python 3"
    },
    "language_info": {
      "name": "python"
    }
  },
  "cells": [
    {
      "cell_type": "code",
      "metadata": {
        "colab": {
          "base_uri": "https://localhost:8080/"
        },
        "id": "bhDmd-lNo0J7",
        "outputId": "698c4ba2-dc16-4c2c-ba41-dc6ee999c981"
      },
      "source": [
        "!pip install kmodes"
      ],
      "execution_count": 31,
      "outputs": [
        {
          "output_type": "stream",
          "text": [
            "Requirement already satisfied: kmodes in /usr/local/lib/python3.7/dist-packages (0.11.0)\n",
            "Requirement already satisfied: joblib>=0.11 in /usr/local/lib/python3.7/dist-packages (from kmodes) (1.0.1)\n",
            "Requirement already satisfied: numpy>=1.10.4 in /usr/local/lib/python3.7/dist-packages (from kmodes) (1.19.5)\n",
            "Requirement already satisfied: scipy>=0.13.3 in /usr/local/lib/python3.7/dist-packages (from kmodes) (1.4.1)\n",
            "Requirement already satisfied: scikit-learn>=0.22.0 in /usr/local/lib/python3.7/dist-packages (from kmodes) (0.22.2.post1)\n"
          ],
          "name": "stdout"
        }
      ]
    },
    {
      "cell_type": "code",
      "metadata": {
        "id": "Jar5xQxVzQKF"
      },
      "source": [
        "import pandas as pd  \n",
        "import matplotlib.pyplot as plt  \n",
        "import seaborn as sns  \n",
        "from sklearn.preprocessing import LabelEncoder  \n",
        "  \n",
        "#from kmodes.kmodes import KModes  \n",
        "#from kmodes.kprototypes import KPrototypes  \n",
        "  \n",
        "import pickle  \n",
        "from pathlib import Path "
      ],
      "execution_count": 32,
      "outputs": []
    },
    {
      "cell_type": "code",
      "metadata": {
        "colab": {
          "base_uri": "https://localhost:8080/"
        },
        "id": "FOiaIGdY1ZbI",
        "outputId": "f4d1db24-ca2b-4519-db38-ea7f497cdc84"
      },
      "source": [
        "import pandas as pd\n",
        "\n",
        "# import dataset  \n",
        "df = pd.read_csv(\"https://storage.googleapis.com/dqlab-dataset/customer_segments.txt\", sep=\"\\t\")  \n",
        "  \n",
        "# menampilkan data  \n",
        "print(df.head())"
      ],
      "execution_count": 33,
      "outputs": [
        {
          "output_type": "stream",
          "text": [
            "  Customer_ID       Nama Pelanggan  ... Tipe Residen  NilaiBelanjaSetahun\n",
            "0    CUST-001         Budi Anggara  ...       Sector              9497927\n",
            "1    CUST-002     Shirley Ratuwati  ...      Cluster              2722700\n",
            "2    CUST-003         Agus Cahyono  ...      Cluster              5286429\n",
            "3    CUST-004     Antonius Winarta  ...      Cluster              5204498\n",
            "4    CUST-005  Ibu Sri Wahyuni, IR  ...      Cluster             10615206\n",
            "\n",
            "[5 rows x 7 columns]\n"
          ],
          "name": "stdout"
        }
      ]
    },
    {
      "cell_type": "code",
      "metadata": {
        "colab": {
          "base_uri": "https://localhost:8080/"
        },
        "id": "du0ViqXJ6bWW",
        "outputId": "351cc506-7536-471d-dc1e-cd2cc1eeb91c"
      },
      "source": [
        "# Menampilkan informasi data  \n",
        "df.info()"
      ],
      "execution_count": 34,
      "outputs": [
        {
          "output_type": "stream",
          "text": [
            "<class 'pandas.core.frame.DataFrame'>\n",
            "RangeIndex: 50 entries, 0 to 49\n",
            "Data columns (total 7 columns):\n",
            " #   Column               Non-Null Count  Dtype \n",
            "---  ------               --------------  ----- \n",
            " 0   Customer_ID          50 non-null     object\n",
            " 1   Nama Pelanggan       50 non-null     object\n",
            " 2   Jenis Kelamin        50 non-null     object\n",
            " 3   Umur                 50 non-null     int64 \n",
            " 4   Profesi              50 non-null     object\n",
            " 5   Tipe Residen         50 non-null     object\n",
            " 6   NilaiBelanjaSetahun  50 non-null     int64 \n",
            "dtypes: int64(2), object(5)\n",
            "memory usage: 2.9+ KB\n"
          ],
          "name": "stdout"
        }
      ]
    },
    {
      "cell_type": "markdown",
      "metadata": {
        "id": "7-5cAv5J7PfT"
      },
      "source": [
        "Kesimpulan\n",
        "Setelah melakukan pemanggilan data dan melihat informasi data yang kamu miliki, kamu akhirnya mengetahui bahwa:\n",
        "\n",
        "* Data yang akan digunakan terdiri dari 50 baris dan 7 kolom\n",
        "* Tidak ada nilai Null padat data\n",
        "* Dua kolom memiliki tipe data numeric dan lima data bertipe string"
      ]
    },
    {
      "cell_type": "code",
      "metadata": {
        "colab": {
          "base_uri": "https://localhost:8080/",
          "height": 1000
        },
        "id": "Moacm08p6clq",
        "outputId": "b54af192-f06e-4b60-b52b-8431698b9a3d"
      },
      "source": [
        "plt.clf()\n",
        "\n",
        "# Fungsi untuk membuat plot\n",
        "def observasi_num(features):\n",
        "  fig, axs = plt.subplots(2, 2, figsize=(10, 9))\n",
        "  for i, kol in enumerate(features):\n",
        "    sns.boxplot(df[kol], ax = axs[i][0])\n",
        "    sns.distplot(df[kol], ax = axs[i][1])\n",
        "    axs[i][0].set_title('mean = %.2f\\n median = %.2f\\n std = %.2f'%(df[kol].mean(), df[kol].median(), df[kol].std()))\n",
        "  plt.setp(axs)\n",
        "  plt.tight_layout()\n",
        "  plt.show()\n",
        "\n",
        "# Memanggil fungsi untuk membuat Plot untuk data numerik\n",
        "kolom_numerik = ['Umur','NilaiBelanjaSetahun']\n",
        "observasi_num(kolom_numerik)"
      ],
      "execution_count": 35,
      "outputs": [
        {
          "output_type": "stream",
          "text": [
            "  adjustable: {'box', 'datalim'}\n",
            "  agg_filter: a filter function, which takes a (m, n, 3) float array and a dpi value, and returns a (m, n, 3) array\n",
            "  alpha: float or None\n",
            "  anchor: 2-tuple of floats or {'C', 'SW', 'S', 'SE', ...}\n",
            "  animated: bool\n",
            "  aspect: {'auto', 'equal'} or num\n",
            "  autoscale_on: bool\n",
            "  autoscalex_on: bool\n",
            "  autoscaley_on: bool\n",
            "  axes_locator: Callable[[Axes, Renderer], Bbox]\n",
            "  axisbelow: bool or 'line'\n",
            "  clip_box: `.Bbox`\n",
            "  clip_on: bool\n",
            "  clip_path: Patch or (Path, Transform) or None\n",
            "  contains: callable\n",
            "  facecolor: color\n",
            "  fc: color\n",
            "  figure: `.Figure`\n",
            "  frame_on: bool\n",
            "  gid: str\n",
            "  in_layout: bool\n",
            "  label: object\n",
            "  navigate: bool\n",
            "  navigate_mode: unknown\n",
            "  path_effects: `.AbstractPathEffect`\n",
            "  picker: None or bool or float or callable\n",
            "  position: [left, bottom, width, height] or `~matplotlib.transforms.Bbox`\n",
            "  prop_cycle: unknown\n",
            "  rasterization_zorder: float or None\n",
            "  rasterized: bool or None\n",
            "  sketch_params: (scale: float, length: float, randomness: float)\n",
            "  snap: bool or None\n",
            "  subplotspec: unknown\n",
            "  title: str\n",
            "  transform: `.Transform`\n",
            "  url: str\n",
            "  visible: bool\n",
            "  xbound: unknown\n",
            "  xlabel: str\n",
            "  xlim: (bottom: float, top: float)\n",
            "  xmargin: float greater than -0.5\n",
            "  xscale: {\"linear\", \"log\", \"symlog\", \"logit\", ...}\n",
            "  xticklabels: List[str]\n",
            "  xticks: unknown\n",
            "  ybound: unknown\n",
            "  ylabel: str\n",
            "  ylim: (bottom: float, top: float)\n",
            "  ymargin: float greater than -0.5\n",
            "  yscale: {\"linear\", \"log\", \"symlog\", \"logit\", ...}\n",
            "  yticklabels: List[str]\n",
            "  yticks: unknown\n",
            "  zorder: float\n"
          ],
          "name": "stdout"
        },
        {
          "output_type": "stream",
          "text": [
            "/usr/local/lib/python3.7/dist-packages/seaborn/_decorators.py:43: FutureWarning: Pass the following variable as a keyword arg: x. From version 0.12, the only valid positional argument will be `data`, and passing other arguments without an explicit keyword will result in an error or misinterpretation.\n",
            "  FutureWarning\n",
            "/usr/local/lib/python3.7/dist-packages/seaborn/distributions.py:2557: FutureWarning: `distplot` is a deprecated function and will be removed in a future version. Please adapt your code to use either `displot` (a figure-level function with similar flexibility) or `histplot` (an axes-level function for histograms).\n",
            "  warnings.warn(msg, FutureWarning)\n",
            "/usr/local/lib/python3.7/dist-packages/seaborn/_decorators.py:43: FutureWarning: Pass the following variable as a keyword arg: x. From version 0.12, the only valid positional argument will be `data`, and passing other arguments without an explicit keyword will result in an error or misinterpretation.\n",
            "  FutureWarning\n",
            "/usr/local/lib/python3.7/dist-packages/seaborn/distributions.py:2557: FutureWarning: `distplot` is a deprecated function and will be removed in a future version. Please adapt your code to use either `displot` (a figure-level function with similar flexibility) or `histplot` (an axes-level function for histograms).\n",
            "  warnings.warn(msg, FutureWarning)\n"
          ],
          "name": "stderr"
        },
        {
          "output_type": "display_data",
          "data": {
            "text/plain": [
              "<Figure size 432x288 with 0 Axes>"
            ]
          },
          "metadata": {}
        },
        {
          "output_type": "display_data",
          "data": {
            "image/png": "[encoded data removed]",
            "text/plain": [
              "<Figure size 720x648 with 4 Axes>"
            ]
          },
          "metadata": {
            "needs_background": "light"
          }
        }
      ]
    },
    {
      "cell_type": "code",
      "metadata": {
        "colab": {
          "base_uri": "https://localhost:8080/",
          "height": 1000
        },
        "id": "K65xDi2uGfrB",
        "outputId": "1aeb7be6-95d2-4df9-bf7c-0bf5ff6664b8"
      },
      "source": [
        "# Menyiapkan kolom kategorikal\n",
        "kolom_kategorikal = ['Jenis Kelamin','Profesi','Tipe Residen']\n",
        "\n",
        "# Membuat canvas\n",
        "fig, axs = plt.subplots(3,1,figsize=(7,10))\n",
        "\n",
        "# Membuat plot untuk setiap kolom kategorikal\n",
        "for i, kol in enumerate(kolom_kategorikal):\n",
        "  sns.countplot(df[kol], order = df[kol].value_counts().index, ax = axs[i])\n",
        "  axs[i].set_title('\\nCount Plot %s\\n'%(kol), fontsize=15)\n",
        "\n",
        "# Memberikan anotasi\n",
        "for p in axs[i].patches:\n",
        "  axs[i].annotate(format(p.get_height(), '.0f'),\n",
        "                  (p.get_x() + p.get_width() / 2., p.get_height()),\n",
        "                  ha = 'center',\n",
        "                  va = 'center',\n",
        "                  xytext = (0, 10),\n",
        "                  textcoords = 'offset points')\n",
        "\n",
        "# Setting Plot\n",
        "sns.despine(right=True,top = True, left = True)\n",
        "axs[i].axes.yaxis.set_visible(False)\n",
        "plt.setp(axs[i])\n",
        "plt.tight_layout()\n",
        "\n",
        "# Tampilkan plot\n",
        "plt.show()"
      ],
      "execution_count": 36,
      "outputs": [
        {
          "output_type": "stream",
          "text": [
            "/usr/local/lib/python3.7/dist-packages/seaborn/_decorators.py:43: FutureWarning: Pass the following variable as a keyword arg: x. From version 0.12, the only valid positional argument will be `data`, and passing other arguments without an explicit keyword will result in an error or misinterpretation.\n",
            "  FutureWarning\n",
            "/usr/local/lib/python3.7/dist-packages/seaborn/_decorators.py:43: FutureWarning: Pass the following variable as a keyword arg: x. From version 0.12, the only valid positional argument will be `data`, and passing other arguments without an explicit keyword will result in an error or misinterpretation.\n",
            "  FutureWarning\n",
            "/usr/local/lib/python3.7/dist-packages/seaborn/_decorators.py:43: FutureWarning: Pass the following variable as a keyword arg: x. From version 0.12, the only valid positional argument will be `data`, and passing other arguments without an explicit keyword will result in an error or misinterpretation.\n",
            "  FutureWarning\n"
          ],
          "name": "stderr"
        },
        {
          "output_type": "stream",
          "text": [
            "  adjustable: {'box', 'datalim'}\n",
            "  agg_filter: a filter function, which takes a (m, n, 3) float array and a dpi value, and returns a (m, n, 3) array\n",
            "  alpha: float or None\n",
            "  anchor: 2-tuple of floats or {'C', 'SW', 'S', 'SE', ...}\n",
            "  animated: bool\n",
            "  aspect: {'auto', 'equal'} or num\n",
            "  autoscale_on: bool\n",
            "  autoscalex_on: bool\n",
            "  autoscaley_on: bool\n",
            "  axes_locator: Callable[[Axes, Renderer], Bbox]\n",
            "  axisbelow: bool or 'line'\n",
            "  clip_box: `.Bbox`\n",
            "  clip_on: bool\n",
            "  clip_path: Patch or (Path, Transform) or None\n",
            "  contains: callable\n",
            "  facecolor: color\n",
            "  fc: color\n",
            "  figure: `.Figure`\n",
            "  frame_on: bool\n",
            "  gid: str\n",
            "  in_layout: bool\n",
            "  label: object\n",
            "  navigate: bool\n",
            "  navigate_mode: unknown\n",
            "  path_effects: `.AbstractPathEffect`\n",
            "  picker: None or bool or float or callable\n",
            "  position: [left, bottom, width, height] or `~matplotlib.transforms.Bbox`\n",
            "  prop_cycle: unknown\n",
            "  rasterization_zorder: float or None\n",
            "  rasterized: bool or None\n",
            "  sketch_params: (scale: float, length: float, randomness: float)\n",
            "  snap: bool or None\n",
            "  subplotspec: unknown\n",
            "  title: str\n",
            "  transform: `.Transform`\n",
            "  url: str\n",
            "  visible: bool\n",
            "  xbound: unknown\n",
            "  xlabel: str\n",
            "  xlim: (bottom: float, top: float)\n",
            "  xmargin: float greater than -0.5\n",
            "  xscale: {\"linear\", \"log\", \"symlog\", \"logit\", ...}\n",
            "  xticklabels: List[str]\n",
            "  xticks: unknown\n",
            "  ybound: unknown\n",
            "  ylabel: str\n",
            "  ylim: (bottom: float, top: float)\n",
            "  ymargin: float greater than -0.5\n",
            "  yscale: {\"linear\", \"log\", \"symlog\", \"logit\", ...}\n",
            "  yticklabels: List[str]\n",
            "  yticks: unknown\n",
            "  zorder: float\n"
          ],
          "name": "stdout"
        },
        {
          "output_type": "display_data",
          "data": {
            "image/png": "[encoded data removed]",
            "text/plain": [
              "<Figure size 504x720 with 3 Axes>"
            ]
          },
          "metadata": {
            "needs_background": "light"
          }
        }
      ]
    },
    {
      "cell_type": "markdown",
      "metadata": {
        "id": "mMhGd_lnHWMt"
      },
      "source": [
        "Kesimpulan\n",
        "Dari hasil explorasi data tersebut kamu dapat mendapatkan informasi:\n",
        "\n",
        "* Rata-rata dari umur pelanggan adalah 37.5 tahun\n",
        "* Rata-rata dari nilai belanja setahun pelanggan adalah 7,069,874.82\n",
        "* Jenis kelamin pelanggan di dominasi oleh wanita sebanyak 41 orang (82%) dan * * laki-laki sebanyak 9 orang (18%)\n",
        "* Profesi terbanyak adalah Wiraswasta (40%) diikuti dengan Professional (36%) dan lainnya sebanyak (24%)\n",
        "* Dari seluruh pelanggan 64% dari mereka tinggal di cluster dan 36% nya tinggal di sektor"
      ]
    },
    {
      "cell_type": "markdown",
      "metadata": {
        "id": "q2wE919iYweX"
      },
      "source": [
        "## Standarisasi Kolom Numerik"
      ]
    },
    {
      "cell_type": "code",
      "metadata": {
        "colab": {
          "base_uri": "https://localhost:8080/"
        },
        "id": "YmLDNrKMHDmw",
        "outputId": "3fb072f9-a410-46fc-dd97-8d7086f8deeb"
      },
      "source": [
        "from sklearn.preprocessing import StandardScaler\n",
        "\n",
        "kolom_numerik = ['Umur','NilaiBelanjaSetahun']\n",
        "\n",
        "# Statistik sebelum Standardisasi\n",
        "print('Statistik Sebelum Standardisasi\\n')\n",
        "print(df[kolom_numerik ].describe().round(1))\n",
        "\n",
        "# Standardisasi\n",
        "df_std = StandardScaler().fit_transform(df[kolom_numerik])\n",
        "\n",
        "# Membuat DataFrame\n",
        "df_std = pd.DataFrame(data=df_std, index=df.index, columns=df[kolom_numerik].columns)\n",
        "\n",
        "# Menampilkan contoh isi data dan summary statistic\n",
        "print('Contoh hasil standardisasi\\n')\n",
        "print(df_std.head())\n",
        "\n",
        "print('Statistik hasil standardisasi\\n')\n",
        "print(df_std.describe().round(0))"
      ],
      "execution_count": 37,
      "outputs": [
        {
          "output_type": "stream",
          "text": [
            "Statistik Sebelum Standardisasi\n",
            "\n",
            "       Umur  NilaiBelanjaSetahun\n",
            "count  50.0                 50.0\n",
            "mean   37.5            7069874.8\n",
            "std    14.7            2590619.0\n",
            "min    14.0            2722700.0\n",
            "25%    25.0            5257529.8\n",
            "50%    35.0            5980077.0\n",
            "75%    49.8            9739615.0\n",
            "max    64.0           10884508.0\n",
            "Contoh hasil standardisasi\n",
            "\n",
            "       Umur  NilaiBelanjaSetahun\n",
            "0  1.411245             0.946763\n",
            "1 -1.617768            -1.695081\n",
            "2  0.722833            -0.695414\n",
            "3  1.067039            -0.727361\n",
            "4  0.240944             1.382421\n",
            "Statistik hasil standardisasi\n",
            "\n",
            "       Umur  NilaiBelanjaSetahun\n",
            "count  50.0                 50.0\n",
            "mean    0.0                 -0.0\n",
            "std     1.0                  1.0\n",
            "min    -2.0                 -2.0\n",
            "25%    -1.0                 -1.0\n",
            "50%    -0.0                 -0.0\n",
            "75%     1.0                  1.0\n",
            "max     2.0                  1.0\n"
          ],
          "name": "stdout"
        }
      ]
    },
    {
      "cell_type": "markdown",
      "metadata": {
        "id": "qv9zbGyEaBxc"
      },
      "source": [
        "## Konversi Kategorikal Data dengan Label Encoder"
      ]
    },
    {
      "cell_type": "code",
      "metadata": {
        "colab": {
          "base_uri": "https://localhost:8080/"
        },
        "id": "2VhIB0zxaC47",
        "outputId": "dfc7fbe5-2f63-4c48-95d6-c829b5fafb67"
      },
      "source": [
        "from sklearn.preprocessing import LabelEncoder\n",
        "\n",
        "# Inisiasi nama kolom kategorikal\n",
        "kolom_kategorikal = ['Jenis Kelamin','Profesi','Tipe Residen']\n",
        "\n",
        "# Membuat salinan data frame\n",
        "df_encode = df[kolom_kategorikal].copy()\n",
        "\n",
        "\n",
        "# Melakukan labelEncoder untuk semua kolom kategorikal\n",
        "for col in kolom_kategorikal:\n",
        "  df_encode[col] = LabelEncoder().fit_transform(df_encode[col])\n",
        "\n",
        "# Menampilkan data\n",
        "print(df_encode.head())"
      ],
      "execution_count": 38,
      "outputs": [
        {
          "output_type": "stream",
          "text": [
            "   Jenis Kelamin  Profesi  Tipe Residen\n",
            "0              0        4             1\n",
            "1              1        2             0\n",
            "2              0        3             0\n",
            "3              0        3             0\n",
            "4              1        4             0\n"
          ],
          "name": "stdout"
        }
      ]
    },
    {
      "cell_type": "markdown",
      "metadata": {
        "id": "93_KEY8kdf5o"
      },
      "source": [
        "## Menggabungkan Data untuk Permodelan"
      ]
    },
    {
      "cell_type": "code",
      "metadata": {
        "colab": {
          "base_uri": "https://localhost:8080/"
        },
        "id": "UAdEfemGdcci",
        "outputId": "a907b580-2375-4578-ac54-cafef81e1d18"
      },
      "source": [
        "# Menggabungkan data frame\n",
        "df_model = df_encode.merge(df_std, left_index = True, right_index=True, how = 'left')  \n",
        "print(df_model.head())"
      ],
      "execution_count": 39,
      "outputs": [
        {
          "output_type": "stream",
          "text": [
            "   Jenis Kelamin  Profesi  Tipe Residen      Umur  NilaiBelanjaSetahun\n",
            "0              0        4             1  1.411245             0.946763\n",
            "1              1        2             0 -1.617768            -1.695081\n",
            "2              0        3             0  0.722833            -0.695414\n",
            "3              0        3             0  1.067039            -0.727361\n",
            "4              1        4             0  0.240944             1.382421\n"
          ],
          "name": "stdout"
        }
      ]
    },
    {
      "cell_type": "markdown",
      "metadata": {
        "id": "v9T2-L9wd1Pq"
      },
      "source": [
        "## Mencari Jumlah Cluster yang Optimal"
      ]
    },
    {
      "cell_type": "code",
      "metadata": {
        "colab": {
          "base_uri": "https://localhost:8080/",
          "height": 264
        },
        "id": "M0zUr3Bmi0zT",
        "outputId": "d8649fcf-cfcf-41ce-c800-68f48fd0c850"
      },
      "source": [
        "from kmodes import kmodes  \n",
        "from kmodes.kprototypes import KPrototypes  \n",
        "import pandas as pd\n",
        "import seaborn as sns\n",
        "import matplotlib.pyplot as plt\n",
        "\n",
        "df_model = pd.read_csv('https://storage.googleapis.com/dqlab-dataset/df-customer-segmentation.csv')\n",
        "\n",
        "# Melakukan Iterasi untuk Mendapatkan nilai Cost  \n",
        "cost = {}  \n",
        "for k in range(2,10):  \n",
        "    kproto = KPrototypes(n_clusters = k,random_state=75)  \n",
        "    kproto.fit_predict(df_model, categorical=[0,1,2])  \n",
        "    cost[k] = kproto.cost_  \n",
        "  \n",
        "# Memvisualisasikan Elbow Plot  \n",
        "sns.pointplot(x=list(cost.keys()), y=list(cost.values()))\n",
        "plt.show()"
      ],
      "execution_count": 40,
      "outputs": [
        {
          "output_type": "display_data",
          "data": {
            "image/png": "[encoded data removed]",
            "text/plain": [
              "<Figure size 432x288 with 1 Axes>"
            ]
          },
          "metadata": {
            "needs_background": "light"
          }
        }
      ]
    },
    {
      "cell_type": "markdown",
      "metadata": {
        "id": "ZYpSqWy7pJ4j"
      },
      "source": [
        "## Membuat Model"
      ]
    },
    {
      "cell_type": "code",
      "metadata": {
        "id": "gn0xGVcPpOaA"
      },
      "source": [
        "import pickle\n",
        "\n",
        "kproto = KPrototypes(n_clusters=5, random_state = 75)\n",
        "kproto = kproto.fit(df_model, categorical=[0,1,2])\n",
        "\n",
        "#Save Model\n",
        "pickle.dump(kproto, open('cluster.pkl', 'wb')) "
      ],
      "execution_count": 41,
      "outputs": []
    },
    {
      "cell_type": "code",
      "metadata": {
        "colab": {
          "base_uri": "https://localhost:8080/"
        },
        "id": "W6jt9ho3p6VA",
        "outputId": "7b81c231-e0d6-4702-960d-0a24eeb24108"
      },
      "source": [
        "# Menentukan segmen tiap pelanggan\n",
        "clusters = kproto.predict(df_model, categorical=[0,1,2])\n",
        "print('segmen pelanggan: {}\\n'.format(clusters))\n",
        "\n",
        "# Menggabungkan data awal dan segmen pelanggan\n",
        "df_final = df.copy()\n",
        "df_final['cluster'] = clusters\n",
        "print(df_final.head())"
      ],
      "execution_count": 42,
      "outputs": [
        {
          "output_type": "stream",
          "text": [
            "segmen pelanggan: [1 0 2 2 3 4 1 2 4 4 2 2 1 1 3 4 4 2 3 0 3 2 4 3 3 2 3 4 2 2 0 1 0 3 4 3 4\n",
            " 1 4 0 4 3 4 3 4 3 2 1 4 1]\n",
            "\n",
            "  Customer_ID       Nama Pelanggan  ... NilaiBelanjaSetahun  cluster\n",
            "0    CUST-001         Budi Anggara  ...             9497927        1\n",
            "1    CUST-002     Shirley Ratuwati  ...             2722700        0\n",
            "2    CUST-003         Agus Cahyono  ...             5286429        2\n",
            "3    CUST-004     Antonius Winarta  ...             5204498        2\n",
            "4    CUST-005  Ibu Sri Wahyuni, IR  ...            10615206        3\n",
            "\n",
            "[5 rows x 8 columns]\n"
          ],
          "name": "stdout"
        }
      ]
    },
    {
      "cell_type": "markdown",
      "metadata": {
        "id": "2oi3DvyltXl5"
      },
      "source": [
        "## Menampilkan Cluster Tiap Pelanggan"
      ]
    },
    {
      "cell_type": "code",
      "metadata": {
        "colab": {
          "base_uri": "https://localhost:8080/"
        },
        "id": "Fwqbi7TIsyGQ",
        "outputId": "02d0de21-a4e9-4225-d9fe-8d28ff3aed8c"
      },
      "source": [
        "# Menampilkan data pelanggan berdasarkan cluster nya  \n",
        "for i in range (0,5):  \n",
        "    print('\\nPelanggan cluster: {}\\n'.format(i))  \n",
        "    print(df_final[df_final['cluster']== i])"
      ],
      "execution_count": 43,
      "outputs": [
        {
          "output_type": "stream",
          "text": [
            "\n",
            "Pelanggan cluster: 0\n",
            "\n",
            "   Customer_ID    Nama Pelanggan  ... NilaiBelanjaSetahun  cluster\n",
            "1     CUST-002  Shirley Ratuwati  ...             2722700        0\n",
            "19    CUST-020    Irene Novianto  ...             2896845        0\n",
            "30    CUST-031     Eviana Handry  ...             3042773        0\n",
            "32    CUST-033   Cecilia Kusnadi  ...             3047926        0\n",
            "39    CUST-040    Irene Darmawan  ...             2861855        0\n",
            "\n",
            "[5 rows x 8 columns]\n",
            "\n",
            "Pelanggan cluster: 1\n",
            "\n",
            "   Customer_ID    Nama Pelanggan  ... NilaiBelanjaSetahun  cluster\n",
            "0     CUST-001      Budi Anggara  ...             9497927        1\n",
            "6     CUST-007     Cahyono, Agus  ...             9837260        1\n",
            "12    CUST-013      Cahaya Putri  ...             9333168        1\n",
            "13    CUST-014    Mario Setiawan  ...             9471615        1\n",
            "31    CUST-032   Chintya Winarni  ...            10663179        1\n",
            "37    CUST-038      Agatha Salim  ...            10477127        1\n",
            "47    CUST-048  Maria Hutagalung  ...            10390732        1\n",
            "49    CUST-050    Lianna Nugraha  ...            10569316        1\n",
            "\n",
            "[8 rows x 8 columns]\n",
            "\n",
            "Pelanggan cluster: 2\n",
            "\n",
            "   Customer_ID     Nama Pelanggan  ... NilaiBelanjaSetahun  cluster\n",
            "2     CUST-003       Agus Cahyono  ...             5286429        2\n",
            "3     CUST-004   Antonius Winarta  ...             5204498        2\n",
            "7     CUST-008     Danang Santosa  ...             5223569        2\n",
            "10    CUST-011     Maria Suryawan  ...             5987367        2\n",
            "11    CUST-012    Erliana Widjaja  ...             5941914        2\n",
            "17    CUST-018        Nelly Halim  ...             5340690        2\n",
            "21    CUST-022       Novita Purba  ...             5298157        2\n",
            "25    CUST-026  Christine Winarto  ...             5269392        2\n",
            "28    CUST-029       Tia Hartanti  ...             5271845        2\n",
            "29    CUST-030     Rosita Saragih  ...             5020976        2\n",
            "46    CUST-047        Mira Kurnia  ...             6130724        2\n",
            "\n",
            "[11 rows x 8 columns]\n",
            "\n",
            "Pelanggan cluster: 3\n",
            "\n",
            "   Customer_ID       Nama Pelanggan  ... NilaiBelanjaSetahun  cluster\n",
            "4     CUST-005  Ibu Sri Wahyuni, IR  ...            10615206        3\n",
            "14    CUST-015     Shirley Ratuwati  ...            10365668        3\n",
            "18    CUST-019         Mega Pranoto  ...            10884508        3\n",
            "20    CUST-021     Lestari Fabianto  ...             9222070        3\n",
            "23    CUST-024        Putri Ginting  ...            10259572        3\n",
            "24    CUST-025       Julia Setiawan  ...            10721998        3\n",
            "26    CUST-027        Grace Mulyati  ...             9114159        3\n",
            "33    CUST-034       Deasy Arisandi  ...             9759822        3\n",
            "35    CUST-036       Ni Made Suasti  ...             9678994        3\n",
            "41    CUST-042         Yuliana Wati  ...             9880607        3\n",
            "43    CUST-044                 Anna  ...             9339737        3\n",
            "45    CUST-046         Elfira Surya  ...            10099807        3\n",
            "\n",
            "[12 rows x 8 columns]\n",
            "\n",
            "Pelanggan cluster: 4\n",
            "\n",
            "   Customer_ID         Nama Pelanggan  ... NilaiBelanjaSetahun  cluster\n",
            "5     CUST-006        Rosalina Kurnia  ...             5215541        4\n",
            "8     CUST-009  Elisabeth Suryadinata  ...             5993218        4\n",
            "9     CUST-010         Mario Setiawan  ...             5257448        4\n",
            "15    CUST-016           Bambang Rudi  ...             5262521        4\n",
            "16    CUST-017              Yuni Sari  ...             5677762        4\n",
            "22    CUST-023        Denny Amiruddin  ...             5239290        4\n",
            "27    CUST-028          Adeline Huang  ...             6631680        4\n",
            "34    CUST-035                Ida Ayu  ...             5962575        4\n",
            "36    CUST-037       Felicia Tandiono  ...             5972787        4\n",
            "38    CUST-039           Gina Hidayat  ...             5257775        4\n",
            "40    CUST-041       Shinta Aritonang  ...             6820976        4\n",
            "42    CUST-043           Yenna Sumadi  ...             5268410        4\n",
            "44    CUST-045         Rismawati Juni  ...             5211041        4\n",
            "48    CUST-049        Josephine Wahab  ...             4992585        4\n",
            "\n",
            "[14 rows x 8 columns]\n"
          ],
          "name": "stdout"
        }
      ]
    },
    {
      "cell_type": "markdown",
      "metadata": {
        "id": "pyqYbpFPtPui"
      },
      "source": [
        "## Visualisasi Hasil Clustering - Box Plot"
      ]
    },
    {
      "cell_type": "code",
      "metadata": {
        "colab": {
          "base_uri": "https://localhost:8080/",
          "height": 633
        },
        "id": "UQ3xJ9EZs-1t",
        "outputId": "9a622718-995b-4947-fbed-735e8014001e"
      },
      "source": [
        "# Data Numerical\n",
        "kolom_numerik = ['Umur','NilaiBelanjaSetahun']  \n",
        "  \n",
        "for i in kolom_numerik:  \n",
        "  plt.figure(figsize=(6,4))\n",
        "  ax = sns.boxplot(x = 'cluster',y = i, data = df_final)\n",
        "  plt.title('\\nBox Plot {}\\n'.format(i), fontsize=12)\n",
        "  plt.show()  "
      ],
      "execution_count": 44,
      "outputs": [
        {
          "output_type": "display_data",
          "data": {
            "image/png": "[encoded data removed]",
            "text/plain": [
              "<Figure size 432x288 with 1 Axes>"
            ]
          },
          "metadata": {
            "needs_background": "light"
          }
        },
        {
          "output_type": "display_data",
          "data": {
            "image/png": "[encoded data removed]",
            "text/plain": [
              "<Figure size 432x288 with 1 Axes>"
            ]
          },
          "metadata": {
            "needs_background": "light"
          }
        }
      ]
    },
    {
      "cell_type": "markdown",
      "metadata": {
        "id": "2z478uERtxWW"
      },
      "source": [
        "## Visualisasi Hasil Clustering - Count Plot"
      ]
    },
    {
      "cell_type": "code",
      "metadata": {
        "colab": {
          "base_uri": "https://localhost:8080/",
          "height": 941
        },
        "id": "wHq9snlDt2Ds",
        "outputId": "e33e44f5-bff6-43c2-c6de-9b9b0bbd1be0"
      },
      "source": [
        "# Data Kategorikal\n",
        "kolom_categorical = ['Jenis Kelamin','Profesi','Tipe Residen']\n",
        "\n",
        "for i in kolom_categorical:\n",
        "  plt.figure(figsize=(6,4))\n",
        "  ax = sns.countplot(data = df_final, x = 'cluster', hue = i )\n",
        "  plt.title('\\nCount Plot {}\\n'.format(i), fontsize=12)\n",
        "  ax.legend(loc=\"upper center\")\n",
        "  for p in ax.patches:\n",
        "    ax.annotate(format(p.get_height(), '.0f'),\n",
        "                (p.get_x() + p.get_width() / 2., p.get_height()),\n",
        "                ha = 'center',\n",
        "                va = 'center',\n",
        "                xytext = (0, 10),\n",
        "                textcoords = 'offset points')\n",
        "  sns.despine(right=True,top = True, left = True)\n",
        "  ax.axes.yaxis.set_visible(False)\n",
        "  plt.show()"
      ],
      "execution_count": 47,
      "outputs": [
        {
          "output_type": "display_data",
          "data": {
            "image/png": "[encoded data removed]",
            "text/plain": [
              "<Figure size 432x288 with 1 Axes>"
            ]
          },
          "metadata": {
            "needs_background": "light"
          }
        },
        {
          "output_type": "display_data",
          "data": {
            "image/png": "[encoded data removed]",
            "text/plain": [
              "<Figure size 432x288 with 1 Axes>"
            ]
          },
          "metadata": {
            "needs_background": "light"
          }
        },
        {
          "output_type": "display_data",
          "data": {
            "image/png": "[encoded data removed]",
            "text/plain": [
              "<Figure size 432x288 with 1 Axes>"
            ]
          },
          "metadata": {
            "needs_background": "light"
          }
        }
      ]
    },
    {
      "cell_type": "markdown",
      "metadata": {
        "id": "VLo_VorSzBOq"
      },
      "source": [
        "## Menamakan Cluster"
      ]
    },
    {
      "cell_type": "code",
      "metadata": {
        "colab": {
          "base_uri": "https://localhost:8080/"
        },
        "id": "teZn8Z9gzN5S",
        "outputId": "a47429a7-a040-4e7d-d194-b4ddac295e86"
      },
      "source": [
        "# Mapping nama kolom\n",
        "df_final['segmen'] = df_final['cluster'].map({0: 'Diamond Young Member',\n",
        "                                              1: 'Diamond Senior Member',\n",
        "                                              2: 'Silver Member',\n",
        "                                              3: 'Gold Young Member',\n",
        "                                              4: 'Gold Senior Member'})\n",
        "\n",
        "print(df_final.info())\n",
        "print(df_final.head())"
      ],
      "execution_count": 48,
      "outputs": [
        {
          "output_type": "stream",
          "text": [
            "<class 'pandas.core.frame.DataFrame'>\n",
            "RangeIndex: 50 entries, 0 to 49\n",
            "Data columns (total 9 columns):\n",
            " #   Column               Non-Null Count  Dtype \n",
            "---  ------               --------------  ----- \n",
            " 0   Customer_ID          50 non-null     object\n",
            " 1   Nama Pelanggan       50 non-null     object\n",
            " 2   Jenis Kelamin        50 non-null     object\n",
            " 3   Umur                 50 non-null     int64 \n",
            " 4   Profesi              50 non-null     object\n",
            " 5   Tipe Residen         50 non-null     object\n",
            " 6   NilaiBelanjaSetahun  50 non-null     int64 \n",
            " 7   cluster              50 non-null     uint16\n",
            " 8   segmen               50 non-null     object\n",
            "dtypes: int64(2), object(6), uint16(1)\n",
            "memory usage: 3.3+ KB\n",
            "None\n",
            "  Customer_ID       Nama Pelanggan  ... cluster                 segmen\n",
            "0    CUST-001         Budi Anggara  ...       1  Diamond Senior Member\n",
            "1    CUST-002     Shirley Ratuwati  ...       0   Diamond Young Member\n",
            "2    CUST-003         Agus Cahyono  ...       2          Silver Member\n",
            "3    CUST-004     Antonius Winarta  ...       2          Silver Member\n",
            "4    CUST-005  Ibu Sri Wahyuni, IR  ...       3      Gold Young Member\n",
            "\n",
            "[5 rows x 9 columns]\n"
          ],
          "name": "stdout"
        }
      ]
    },
    {
      "cell_type": "markdown",
      "metadata": {
        "id": "VhCbbS932U-j"
      },
      "source": [
        "Kesimpulan\n",
        "Yeay! Akhirnya kamu sudah berhasil melakukan segmentasi pelanggan dan mendapatkan nama yang cocok untuk masing masing cluster. Yaitu:\n",
        "\n",
        "* Cluster 0: Diamond Young Entrepreneur, isi cluster ini adalah para wiraswasta yang memiliki nilai transaksi rata-rata mendekati 10 juta. Selain itu isi dari cluster ini memiliki umur sekitar 18 - 41 tahun dengan rata-ratanya adalah 29 tahun.\n",
        "* Cluster 1: Diamond Senior Entrepreneur, isi cluster ini adalah para wiraswata yang memiliki nilai transaksi rata-rata mendekati 10 juta. Isi dari cluster ini memiliki umur sekitar 45 - 64 tahun dengan rata-ratanya adalah 55 tahun.\n",
        "* Cluster 2: Silver Students, isi cluster ini adalah para pelajar dan mahasiswa dengan rata-rata umur mereka adalah 16 tahun dan nilai belanja setahun mendekati 3 juta.\n",
        "* Cluster 3: Gold Young Member, isi cluster ini adalah para professional dan ibu rumah tangga yang berusia muda dengan rentang umur sekitar 20 - 40 tahun dan dengan rata-rata 30 tahun dan nilai belanja setahun nya mendekati 6 juta.\n",
        "* Cluster 4: Gold Senior Member, isi cluster ini adalah para professional dan ibu rumah tangga yang berusia tua dengan rentang umur 46 - 63 tahun dan dengan rata-rata 53 tahun dan nilai belanja setahun nya mendekati 6 juta.\n",
        "\n",
        "Setelah menyampaikan hasil yang kamu dapatkan ke atasan kamu. Atasan kamu sangat puas dengan hasil yang kamu berikan. Selanjutnya dia memberikan tantangan tambahan kepada kamu untuk mengoperasikan model yang kamu buat agar dapat di gunakan untuk memprediksi data baru."
      ]
    },
    {
      "cell_type": "markdown",
      "metadata": {
        "id": "2YVCcQZ62Z2o"
      },
      "source": [
        "## Mempersiapkan Data Baru"
      ]
    },
    {
      "cell_type": "code",
      "metadata": {
        "colab": {
          "base_uri": "https://localhost:8080/"
        },
        "id": "l1WwNTNu20z8",
        "outputId": "8d4875ea-aae0-49b8-9acf-8de6205b6193"
      },
      "source": [
        "# Data Baru  \n",
        "data = [{  \n",
        "    'Customer_ID': 'CUST-100' ,  \n",
        "    'Nama Pelanggan': 'Joko' ,  \n",
        "    'Jenis Kelamin': 'Pria',  \n",
        "    'Umur': 45,  \n",
        "    'Profesi': 'Wiraswasta',  \n",
        "    'Tipe Residen': 'Cluster' ,  \n",
        "    'NilaiBelanjaSetahun': 8230000  \n",
        "      \n",
        "}]  \n",
        "  \n",
        "# Membuat Data Frame  \n",
        "new_df = pd.DataFrame(data)  \n",
        "  \n",
        "# Melihat Data  \n",
        "print(new_df)"
      ],
      "execution_count": 49,
      "outputs": [
        {
          "output_type": "stream",
          "text": [
            "  Customer_ID Nama Pelanggan  ... Tipe Residen  NilaiBelanjaSetahun\n",
            "0    CUST-100           Joko  ...      Cluster              8230000\n",
            "\n",
            "[1 rows x 7 columns]\n"
          ],
          "name": "stdout"
        }
      ]
    },
    {
      "cell_type": "markdown",
      "metadata": {
        "id": "3ClOZbiu4yMF"
      },
      "source": [
        "## Membuat Fungsi Data Pemrosesan"
      ]
    },
    {
      "cell_type": "code",
      "metadata": {
        "colab": {
          "base_uri": "https://localhost:8080/"
        },
        "id": "4DQvetkj24vL",
        "outputId": "a79a0369-348e-4d7e-a163-6d7da6a16e2f"
      },
      "source": [
        "def data_preprocess(data):  \n",
        "    # Konversi Kategorikal data  \n",
        "    kolom_kategorikal = ['Jenis Kelamin','Profesi','Tipe Residen']  \n",
        "      \n",
        "    df_encode = data[kolom_kategorikal].copy()  \n",
        "  \n",
        "    ## Jenis Kelamin   \n",
        "    df_encode['Jenis Kelamin'] = df_encode['Jenis Kelamin'].map({  \n",
        "        'Pria': 0,  \n",
        "        'Wanita' : 1  \n",
        "    })  \n",
        "      \n",
        "    ## Profesi  \n",
        "    df_encode['Profesi'] = df_encode['Profesi'].map({  \n",
        "        'Ibu Rumah Tangga': 0,  \n",
        "        'Mahasiswa' : 1,  \n",
        "        'Pelajar': 2,  \n",
        "        'Professional': 3,  \n",
        "        'Wiraswasta': 4  \n",
        "    })  \n",
        "      \n",
        "    ## Tipe Residen  \n",
        "    df_encode['Tipe Residen'] = df_encode['Tipe Residen'].map({  \n",
        "        'Cluster': 0,  \n",
        "        'Sector' : 1  \n",
        "    })  \n",
        "      \n",
        "    # Standardisasi Numerical Data  \n",
        "    kolom_numerik = ['Umur','NilaiBelanjaSetahun']  \n",
        "    df_std = data[kolom_numerik].copy()  \n",
        "      \n",
        "    ## Standardisasi Kolom Umur  \n",
        "    df_std['Umur'] = (df_std['Umur'] - 37.5)/14.7  \n",
        "      \n",
        "    ## Standardisasi Kolom Nilai Belanja Setahun  \n",
        "    df_std['NilaiBelanjaSetahun'] = (df_std['NilaiBelanjaSetahun'] - 7069874.8)/2590619.0  \n",
        "      \n",
        "    # Menggabungkan Kategorikal dan numerikal data  \n",
        "    df_model = df_encode.merge(df_std, left_index = True,  \n",
        "                           right_index=True, how = 'left')  \n",
        "      \n",
        "    return df_model  \n",
        "  \n",
        "# Menjalankan fungsi  \n",
        "new_df_model = data_preprocess(new_df)  \n",
        "  \n",
        "print(new_df_model)"
      ],
      "execution_count": 50,
      "outputs": [
        {
          "output_type": "stream",
          "text": [
            "   Jenis Kelamin  Profesi  Tipe Residen      Umur  NilaiBelanjaSetahun\n",
            "0              0        4             0  0.510204             0.447818\n"
          ],
          "name": "stdout"
        }
      ]
    },
    {
      "cell_type": "markdown",
      "metadata": {
        "id": "EaCP5SmX6IBt"
      },
      "source": [
        "## Memanggil Model dan Melakukan Prediksi"
      ]
    },
    {
      "cell_type": "code",
      "metadata": {
        "colab": {
          "base_uri": "https://localhost:8080/"
        },
        "id": "UxqQwBkF6IWi",
        "outputId": "67e21d33-5564-4525-b1ad-c1448ab806f5"
      },
      "source": [
        "def modelling (data):\n",
        "#Memanggil Model\n",
        "  kpoto = pickle.load(open('cluster.pkl', 'rb'))\n",
        "#Melakukan Prediksi\n",
        "  clusters = kpoto.predict(data,categorical=[0,1,2])\n",
        "  return clusters\n",
        "\n",
        "# Menjalankan Fungsi\n",
        "clusters = modelling(new_df_model)\n",
        "print(clusters)"
      ],
      "execution_count": 51,
      "outputs": [
        {
          "output_type": "stream",
          "text": [
            "[1]\n"
          ],
          "name": "stdout"
        }
      ]
    },
    {
      "cell_type": "markdown",
      "metadata": {
        "id": "pQOXEGpp_1Wt"
      },
      "source": [
        "## Menamakan Segmen"
      ]
    },
    {
      "cell_type": "code",
      "metadata": {
        "colab": {
          "base_uri": "https://localhost:8080/"
        },
        "id": "PVjKC0Si_4Tv",
        "outputId": "022f9f43-d182-4912-ba3d-de09368b2301"
      },
      "source": [
        "def menamakan_segmen (data_asli, clusters):\n",
        "# Menggabungkan cluster dan data asli\n",
        "  final_df = data_asli.copy()\n",
        "  final_df['cluster'] = clusters\n",
        "# Menamakan segmen\n",
        "  final_df['segmen'] = final_df['cluster'].map({\n",
        "      0: 'Diamond Young Member',\n",
        "      1: 'Diamond Senior Member',\n",
        "      2: 'Silver Students',\n",
        "      3: 'Gold Young Member',\n",
        "      4: 'Gold Senior Member'})\n",
        "  return final_df\n",
        "\n",
        "# Menjalankan Fungsi\n",
        "new_final_df = menamakan_segmen(new_df,clusters)\n",
        "print(new_final_df)"
      ],
      "execution_count": 52,
      "outputs": [
        {
          "output_type": "stream",
          "text": [
            "  Customer_ID Nama Pelanggan  ... cluster                 segmen\n",
            "0    CUST-100           Joko  ...       1  Diamond Senior Member\n",
            "\n",
            "[1 rows x 9 columns]\n"
          ],
          "name": "stdout"
        }
      ]
    },
    {
      "cell_type": "markdown",
      "metadata": {
        "id": "1s8eqhobAPuk"
      },
      "source": [
        ""
      ]
    }
  ]
}